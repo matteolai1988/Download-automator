{
 "cells": [
  {
   "cell_type": "code",
   "execution_count": 2,
   "id": "f83ec446",
   "metadata": {},
   "outputs": [],
   "source": [
    "import os"
   ]
  },
  {
   "cell_type": "code",
   "execution_count": 3,
   "id": "4cc5cdc9",
   "metadata": {},
   "outputs": [
    {
     "name": "stdout",
     "output_type": "stream",
     "text": [
      "atto di nascita matteo lai.pdf\n",
      "crime.csv\n",
      "desktop.ini\n",
      "Ex_Files_Using_SQL_With_Python.zip\n"
     ]
    }
   ],
   "source": [
    "source_dir = \"/Users/matteolai/Downloads\"\n",
    "\n",
    "with os.scandir(source_dir) as entries:\n",
    "    for entry in entries:\n",
    "        print(entry.name)"
   ]
  },
  {
   "cell_type": "code",
   "execution_count": 4,
   "id": "5347f69f",
   "metadata": {},
   "outputs": [
    {
     "name": "stdout",
     "output_type": "stream",
     "text": [
      "Requirement already satisfied: watchdog in c:\\users\\matteolai\\anaconda3\\lib\\site-packages (2.1.6)\n",
      "Note: you may need to restart the kernel to use updated packages.\n"
     ]
    }
   ],
   "source": [
    "pip install watchdog"
   ]
  },
  {
   "cell_type": "code",
   "execution_count": 5,
   "id": "8b49d009",
   "metadata": {},
   "outputs": [],
   "source": [
    "from os import scandir, rename\n",
    "from os.path import splitext, exists, join\n",
    "from shutil import move\n",
    "from time import sleep\n",
    "\n",
    "import logging\n",
    "\n",
    "from watchdog.observers import Observer\n",
    "from watchdog.events import FileSystemEventHandler\n",
    "\n",
    "# ! FILL IN BELOW\n",
    "# ? folder to track e.g. Windows: \"C:\\\\Users\\\\UserName\\\\Downloads\"\n",
    "source_dir = \"/Users/matteolai/Downloads\"\n",
    "dest_dir_sfx = \"D:/download sfx\"\n",
    "dest_dir_music = \"D:/download music\"\n",
    "dest_dir_video = \"D:/download video\"\n",
    "dest_dir_image = \"D:/download image\"\n",
    "dest_dir_documents = \"D:/download documents\"\n",
    "\n",
    "# ? supported image types\n",
    "image_extensions = [\".jpg\", \".jpeg\", \".jpe\", \".jif\", \".jfif\", \".jfi\", \".png\", \".gif\", \".webp\", \".tiff\", \".tif\", \".psd\", \".raw\", \".arw\", \".cr2\", \".nrw\",\n",
    "                    \".k25\", \".bmp\", \".dib\", \".heif\", \".heic\", \".ind\", \".indd\", \".indt\", \".jp2\", \".j2k\", \".jpf\", \".jpf\", \".jpx\", \".jpm\", \".mj2\", \".svg\", \".svgz\", \".ai\", \".eps\", \".ico\"]\n",
    "# ? supported Video types\n",
    "video_extensions = [\".webm\", \".mpg\", \".mp2\", \".mpeg\", \".mpe\", \".mpv\", \".ogg\",\n",
    "                    \".mp4\", \".mp4v\", \".m4v\", \".avi\", \".wmv\", \".mov\", \".qt\", \".flv\", \".swf\", \".avchd\"]\n",
    "# ? supported Audio types\n",
    "audio_extensions = [\".m4a\", \".flac\", \"mp3\", \".wav\", \".wma\", \".aac\"]\n",
    "# ? supported Document types\n",
    "document_extensions = [\".doc\", \".docx\", \".odt\",\n",
    "                       \".pdf\", \".xls\", \".xlsx\", \".ppt\", \".pptx\"]\n",
    "\n",
    "\n",
    "def make_unique(dest, name):\n",
    "    filename, extension = splitext(name)\n",
    "    counter = 1\n",
    "    # * IF FILE EXISTS, ADDS NUMBER TO THE END OF THE FILENAME\n",
    "    while exists(f\"{dest}/{name}\"):\n",
    "        name = f\"{filename}({str(counter)}){extension}\"\n",
    "        counter += 1\n",
    "\n",
    "    return name\n",
    "\n",
    "\n",
    "def move_file(dest, entry, name):\n",
    "    if exists(f\"{dest}/{name}\"):\n",
    "        unique_name = make_unique(dest, name)\n",
    "        oldName = join(dest, name)\n",
    "        newName = join(dest, unique_name)\n",
    "        rename(oldName, newName)\n",
    "    move(entry, dest)\n",
    "\n",
    "\n",
    "class MoverHandler(FileSystemEventHandler):\n",
    "    # ? THIS FUNCTION WILL RUN WHENEVER THERE IS A CHANGE IN \"source_dir\"\n",
    "    # ? .upper is for not missing out on files with uppercase extensions\n",
    "    def on_modified(self, event):\n",
    "        with scandir(source_dir) as entries:\n",
    "            for entry in entries:\n",
    "                name = entry.name\n",
    "                self.check_audio_files(entry, name)\n",
    "                self.check_video_files(entry, name)\n",
    "                self.check_image_files(entry, name)\n",
    "                self.check_document_files(entry, name)\n",
    "\n",
    "    def check_audio_files(self, entry, name):  # * Checks all Audio Files\n",
    "        for audio_extension in audio_extensions:\n",
    "            if name.endswith(audio_extension) or name.endswith(audio_extension.upper()):\n",
    "                if entry.stat().st_size < 10_000_000 or \"SFX\" in name:  # ? 10Megabytes\n",
    "                    dest = dest_dir_sfx\n",
    "                else:\n",
    "                    dest = dest_dir_music\n",
    "                move_file(dest, entry, name)\n",
    "                logging.info(f\"Moved audio file: {name}\")\n",
    "\n",
    "    def check_video_files(self, entry, name):  # * Checks all Video Files\n",
    "        for video_extension in video_extensions:\n",
    "            if name.endswith(video_extension) or name.endswith(video_extension.upper()):\n",
    "                move_file(dest_dir_video, entry, name)\n",
    "                logging.info(f\"Moved video file: {name}\")\n",
    "\n",
    "    def check_image_files(self, entry, name):  # * Checks all Image Files\n",
    "        for image_extension in image_extensions:\n",
    "            if name.endswith(image_extension) or name.endswith(image_extension.upper()):\n",
    "                move_file(dest_dir_image, entry, name)\n",
    "                logging.info(f\"Moved image file: {name}\")\n",
    "\n",
    "    def check_document_files(self, entry, name):  # * Checks all Document Files\n",
    "        for documents_extension in document_extensions:\n",
    "            if name.endswith(documents_extension) or name.endswith(documents_extension.upper()):\n",
    "                move_file(dest_dir_documents, entry, name)\n",
    "                logging.info(f\"Moved document file: {name}\")\n",
    "\n",
    "\n",
    "# ! NO NEED TO CHANGE BELOW CODE\n",
    "if __name__ == \"__main__\":\n",
    "    logging.basicConfig(level=logging.INFO,\n",
    "                        format='%(asctime)s - %(message)s',\n",
    "                        datefmt='%Y-%m-%d %H:%M:%S')\n",
    "    path = source_dir\n",
    "    event_handler = MoverHandler()\n",
    "    observer = Observer()\n",
    "    observer.schedule(event_handler, path, recursive=True)\n",
    "    observer.start()\n",
    "    try:\n",
    "        while True:\n",
    "            sleep(10)\n",
    "    except KeyboardInterrupt:\n",
    "        observer.stop()\n",
    "    observer.join()"
   ]
  },
  {
   "cell_type": "code",
   "execution_count": null,
   "id": "4c4ff6a8",
   "metadata": {},
   "outputs": [],
   "source": []
  }
 ],
 "metadata": {
  "kernelspec": {
   "display_name": "Python 3 (ipykernel)",
   "language": "python",
   "name": "python3"
  },
  "language_info": {
   "codemirror_mode": {
    "name": "ipython",
    "version": 3
   },
   "file_extension": ".py",
   "mimetype": "text/x-python",
   "name": "python",
   "nbconvert_exporter": "python",
   "pygments_lexer": "ipython3",
   "version": "3.9.13"
  }
 },
 "nbformat": 4,
 "nbformat_minor": 5
}
